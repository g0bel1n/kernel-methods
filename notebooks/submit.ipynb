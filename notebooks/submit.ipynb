{
 "cells": [
  {
   "cell_type": "code",
   "execution_count": 2,
   "metadata": {},
   "outputs": [],
   "source": [
    "import pickle\n",
    "import networkx as nx\n",
    "import matplotlib.pyplot as plt\n",
    "import numpy as np\n",
    "from tqdm import tqdm\n",
    "\n",
    "\n",
    "with open('../data/training_data.pkl', 'rb') as f:\n",
    "    train_data = pickle.load(f)\n",
    "\n",
    "with open('../data/test_data.pkl', 'rb') as f:\n",
    "    test_data = pickle.load(f)\n",
    "\n",
    "with open('../data/training_labels.pkl', 'rb') as f:\n",
    "    train_labels = pickle.load(f)\n",
    "    \n",
    "\n",
    "\n",
    "K_train = np.load('../data/kernel_matrix.npy')\n",
    "K_test = np.load('../data/test_kernel_matrix.npy')\n",
    "K_train_test = np.load('../data/test_train_kernel_matrix.npy')"
   ]
  },
  {
   "cell_type": "code",
   "execution_count": 3,
   "metadata": {},
   "outputs": [],
   "source": [
    "import os\n",
    "import sys\n",
    "\n",
    "if os.path.abspath('..') not in sys.path:\n",
    "    sys.path.append(os.path.abspath('..'))"
   ]
  },
  {
   "cell_type": "code",
   "execution_count": 4,
   "metadata": {},
   "outputs": [],
   "source": [
    "from src.kernels import VertexHistogramKernel"
   ]
  },
  {
   "cell_type": "code",
   "execution_count": 4,
   "metadata": {},
   "outputs": [
    {
     "ename": "KeyboardInterrupt",
     "evalue": "",
     "output_type": "error",
     "traceback": [
      "\u001b[0;31m---------------------------------------------------------------------------\u001b[0m",
      "\u001b[0;31mKeyboardInterrupt\u001b[0m                         Traceback (most recent call last)",
      "Cell \u001b[0;32mIn[4], line 1\u001b[0m\n\u001b[0;32m----> 1\u001b[0m K_train \u001b[39m=\u001b[39m VertexHistogramKernel()(train_data, train_data)\n\u001b[1;32m      2\u001b[0m np\u001b[39m.\u001b[39msave(\u001b[39m'\u001b[39m\u001b[39m../data/K_train_vertex.npy\u001b[39m\u001b[39m'\u001b[39m, K_train)\n\u001b[1;32m      4\u001b[0m K_test \u001b[39m=\u001b[39m VertexHistogramKernel()(test_data, test_data)\n",
      "File \u001b[0;32m~/kernel-methods/src/kernels/_base.py:20\u001b[0m, in \u001b[0;36mGraphKernel.__call__\u001b[0;34m(self, x1, x2)\u001b[0m\n\u001b[1;32m     17\u001b[0m     \u001b[39mreturn\u001b[39;00m \u001b[39mself\u001b[39m\u001b[39m.\u001b[39m_kernel(x1, x2)\n\u001b[1;32m     18\u001b[0m \u001b[39melif\u001b[39;00m \u001b[39misinstance\u001b[39m(x1, ArrayLike) \u001b[39mand\u001b[39;00m \u001b[39misinstance\u001b[39m(x2, ArrayLike):\n\u001b[1;32m     19\u001b[0m     \u001b[39mreturn\u001b[39;00m np\u001b[39m.\u001b[39marray(\n\u001b[0;32m---> 20\u001b[0m         [\n\u001b[1;32m     21\u001b[0m             [\u001b[39mself\u001b[39;49m\u001b[39m.\u001b[39;49m_kernel(x1[i], x2[j]) \u001b[39mfor\u001b[39;49;00m i \u001b[39min\u001b[39;49;00m \u001b[39mrange\u001b[39;49m(\u001b[39mlen\u001b[39;49m(x1))]\n\u001b[1;32m     22\u001b[0m             \u001b[39mfor\u001b[39;49;00m j \u001b[39min\u001b[39;49;00m \u001b[39mrange\u001b[39;49m(\u001b[39mlen\u001b[39;49m(x2))\n\u001b[1;32m     23\u001b[0m         ]\n\u001b[1;32m     24\u001b[0m     )\n",
      "File \u001b[0;32m~/kernel-methods/src/kernels/_base.py:21\u001b[0m, in \u001b[0;36m<listcomp>\u001b[0;34m(.0)\u001b[0m\n\u001b[1;32m     17\u001b[0m     \u001b[39mreturn\u001b[39;00m \u001b[39mself\u001b[39m\u001b[39m.\u001b[39m_kernel(x1, x2)\n\u001b[1;32m     18\u001b[0m \u001b[39melif\u001b[39;00m \u001b[39misinstance\u001b[39m(x1, ArrayLike) \u001b[39mand\u001b[39;00m \u001b[39misinstance\u001b[39m(x2, ArrayLike):\n\u001b[1;32m     19\u001b[0m     \u001b[39mreturn\u001b[39;00m np\u001b[39m.\u001b[39marray(\n\u001b[1;32m     20\u001b[0m         [\n\u001b[0;32m---> 21\u001b[0m             [\u001b[39mself\u001b[39;49m\u001b[39m.\u001b[39;49m_kernel(x1[i], x2[j]) \u001b[39mfor\u001b[39;49;00m i \u001b[39min\u001b[39;49;00m \u001b[39mrange\u001b[39;49m(\u001b[39mlen\u001b[39;49m(x1))]\n\u001b[1;32m     22\u001b[0m             \u001b[39mfor\u001b[39;00m j \u001b[39min\u001b[39;00m \u001b[39mrange\u001b[39m(\u001b[39mlen\u001b[39m(x2))\n\u001b[1;32m     23\u001b[0m         ]\n\u001b[1;32m     24\u001b[0m     )\n",
      "File \u001b[0;32m~/kernel-methods/src/kernels/_base.py:21\u001b[0m, in \u001b[0;36m<listcomp>\u001b[0;34m(.0)\u001b[0m\n\u001b[1;32m     17\u001b[0m     \u001b[39mreturn\u001b[39;00m \u001b[39mself\u001b[39m\u001b[39m.\u001b[39m_kernel(x1, x2)\n\u001b[1;32m     18\u001b[0m \u001b[39melif\u001b[39;00m \u001b[39misinstance\u001b[39m(x1, ArrayLike) \u001b[39mand\u001b[39;00m \u001b[39misinstance\u001b[39m(x2, ArrayLike):\n\u001b[1;32m     19\u001b[0m     \u001b[39mreturn\u001b[39;00m np\u001b[39m.\u001b[39marray(\n\u001b[1;32m     20\u001b[0m         [\n\u001b[0;32m---> 21\u001b[0m             [\u001b[39mself\u001b[39;49m\u001b[39m.\u001b[39;49m_kernel(x1[i], x2[j]) \u001b[39mfor\u001b[39;00m i \u001b[39min\u001b[39;00m \u001b[39mrange\u001b[39m(\u001b[39mlen\u001b[39m(x1))]\n\u001b[1;32m     22\u001b[0m             \u001b[39mfor\u001b[39;00m j \u001b[39min\u001b[39;00m \u001b[39mrange\u001b[39m(\u001b[39mlen\u001b[39m(x2))\n\u001b[1;32m     23\u001b[0m         ]\n\u001b[1;32m     24\u001b[0m     )\n",
      "File \u001b[0;32m~/kernel-methods/src/kernels/_vertex_hist_kernel.py:11\u001b[0m, in \u001b[0;36mVertexHistogramKernel._kernel\u001b[0;34m(self, G1, G2)\u001b[0m\n\u001b[1;32m      9\u001b[0m \u001b[39mdef\u001b[39;00m \u001b[39m_kernel\u001b[39m(\u001b[39mself\u001b[39m, G1: nx\u001b[39m.\u001b[39mGraph, G2: nx\u001b[39m.\u001b[39mGraph):\n\u001b[1;32m     10\u001b[0m     \u001b[39m# Compute the histogram of the vertex degrees for each graph\u001b[39;00m\n\u001b[0;32m---> 11\u001b[0m     h1 \u001b[39m=\u001b[39m np\u001b[39m.\u001b[39mhistogram(\u001b[39mlist\u001b[39m(\u001b[39mdict\u001b[39m(G1\u001b[39m.\u001b[39mdegree)\u001b[39m.\u001b[39mvalues()), bins\u001b[39m=\u001b[39mnp\u001b[39m.\u001b[39marange(\u001b[39m0\u001b[39m, \u001b[39m10\u001b[39m), density\u001b[39m=\u001b[39m\u001b[39mTrue\u001b[39;00m)[\u001b[39m0\u001b[39m]\n\u001b[1;32m     12\u001b[0m     h2 \u001b[39m=\u001b[39m np\u001b[39m.\u001b[39mhistogram(\u001b[39mlist\u001b[39m(\u001b[39mdict\u001b[39m(G2\u001b[39m.\u001b[39mdegree)\u001b[39m.\u001b[39mvalues()), bins\u001b[39m=\u001b[39mnp\u001b[39m.\u001b[39marange(\u001b[39m0\u001b[39m, \u001b[39m10\u001b[39m), density\u001b[39m=\u001b[39m\u001b[39mTrue\u001b[39;00m)[\u001b[39m0\u001b[39m]\n\u001b[1;32m     14\u001b[0m     \u001b[39m# Compute the dot product of the histogram vectors\u001b[39;00m\n",
      "File \u001b[0;32m~/opt/anaconda3/envs/kernelmethods-env/lib/python3.11/site-packages/networkx/classes/reportviews.py:532\u001b[0m, in \u001b[0;36mDegreeView.__iter__\u001b[0;34m(self)\u001b[0m\n\u001b[1;32m    530\u001b[0m     \u001b[39mfor\u001b[39;00m n \u001b[39min\u001b[39;00m \u001b[39mself\u001b[39m\u001b[39m.\u001b[39m_nodes:\n\u001b[1;32m    531\u001b[0m         nbrs \u001b[39m=\u001b[39m \u001b[39mself\u001b[39m\u001b[39m.\u001b[39m_succ[n]\n\u001b[0;32m--> 532\u001b[0m         \u001b[39myield\u001b[39;00m (n, \u001b[39mlen\u001b[39m(nbrs) \u001b[39m+\u001b[39m (n \u001b[39min\u001b[39;00m nbrs))\n\u001b[1;32m    533\u001b[0m \u001b[39melse\u001b[39;00m:\n\u001b[1;32m    534\u001b[0m     \u001b[39mfor\u001b[39;00m n \u001b[39min\u001b[39;00m \u001b[39mself\u001b[39m\u001b[39m.\u001b[39m_nodes:\n",
      "\u001b[0;31mKeyboardInterrupt\u001b[0m: "
     ]
    }
   ],
   "source": [
    "K_train = VertexHistogramKernel()(train_data, train_data)\n",
    "np.save('../data/K_train_vertex.npy', K_train)\n",
    "\n",
    "K_test = VertexHistogramKernel()(test_data, test_data)\n",
    "np.save('../data/K_test_vertex.npy', K_test)\n",
    "\n",
    "K_train_test = VertexHistogramKernel()(train_data, test_data)\n",
    "np.save('../data/K_train_test_vertex.npy', K_train_test)\n"
   ]
  },
  {
   "cell_type": "code",
   "execution_count": 5,
   "metadata": {},
   "outputs": [],
   "source": [
    "class knn:\n",
    "        \n",
    "        def __init__(self, kernel, k=3) -> None:\n",
    "            self.k = k\n",
    "            self.kernel = kernel\n",
    "            \n",
    "        def fit(self, X, y):\n",
    "            self.X = X\n",
    "            self.y = y\n",
    "\n",
    "            return self\n",
    "        \n",
    "        def compute_distance(self, x, base):\n",
    "            k = self.kernel(x,x)\n",
    "            return [k+self.kernel(b,b)-2*self.kernel(x, b) for b in base]\n",
    "        \n",
    "        def predict(self, X):\n",
    "            y_pred = []\n",
    "            score_list = []\n",
    "            for x in tqdm(X):\n",
    "                scores = np.array(self.compute_distance(x, self.X))\n",
    "                idx = np.argsort(scores)[:self.k]\n",
    "                y_pred.append((self.y[idx].mean()>.5).astype(int))\n",
    "                score_list.append(scores)\n",
    "            return np.array(y_pred), np.array(score_list)\n",
    "        \n",
    "        def score(self, X, y):\n",
    "            return np.mean(self.predict(X)[0]==y)\n"
   ]
  },
  {
   "cell_type": "code",
   "execution_count": 6,
   "metadata": {},
   "outputs": [
    {
     "data": {
      "text/plain": [
       "0.9075"
      ]
     },
     "execution_count": 6,
     "metadata": {},
     "output_type": "execute_result"
    }
   ],
   "source": [
    "np.sum(train_labels==0)/len(train_labels)\n"
   ]
  },
  {
   "cell_type": "code",
   "execution_count": 7,
   "metadata": {},
   "outputs": [],
   "source": [
    "def knn(K_train, K_test, K_train_test,y_train, k=3):\n",
    "    y_pred = []\n",
    "    for i in range(K_test.shape[0]):\n",
    "        dists = np.diag(K_train) + K_test[i, i] - 2 * K_train_test[i, :]\n",
    "        idx = np.argsort(dists)[:k]\n",
    "        y_pred.append((y_train[idx].mean()>.5).astype(int))\n",
    "    return np.array(y_pred)\n"
   ]
  },
  {
   "cell_type": "code",
   "execution_count": 101,
   "metadata": {},
   "outputs": [],
   "source": [
    "np.save(\"pred_1_knn.npy\", knn(K_train, K_test, K_train_test, train_labels, k=1))"
   ]
  },
  {
   "cell_type": "code",
   "execution_count": 41,
   "metadata": {},
   "outputs": [
    {
     "name": "stdout",
     "output_type": "stream",
     "text": [
      "Nb of 1 in y_test: 111\n",
      "Nb of 1 in y_pred: 30\n",
      "0.9258333333333333\n",
      "Nb of 1 in y_test: 111\n",
      "Nb of 1 in y_pred: 48\n",
      "0.9291666666666667\n",
      "Nb of 1 in y_test: 111\n",
      "Nb of 1 in y_pred: 50\n",
      "0.9308333333333333\n",
      "Nb of 1 in y_test: 111\n",
      "Nb of 1 in y_pred: 48\n",
      "0.9391666666666667\n",
      "Nb of 1 in y_test: 111\n",
      "Nb of 1 in y_pred: 39\n",
      "0.9216666666666666\n"
     ]
    }
   ],
   "source": [
    "#get stratified kfold\n",
    "from sklearn.model_selection import StratifiedKFold\n",
    "skf = StratifiedKFold(n_splits=5, shuffle=True, random_state=42)\n",
    "\n",
    "for train_index, test_index in skf.split(train_data, train_labels):\n",
    "    K_train_eval = K_train[train_index][:, train_index]\n",
    "    K_test_eval = K_train[test_index][:, test_index]\n",
    "    K_train_test_eval = K_train[train_index][:, test_index].T\n",
    "    y_train_eval = train_labels[train_index]\n",
    "    #print(K_train_eval.shape, K_test_eval.shape, K_train_test_eval.shape, y_train_eval.shape)\n",
    "    y_pred = knn(K_train_eval, K_test_eval, K_train_test_eval, y_train_eval, k=1)\n",
    "    y_test_eval = train_labels[test_index]\n",
    "    print(f\"Nb of 1 in y_test: {np.sum(y_test_eval==1)}\")\n",
    "    print(f\"Nb of 1 in y_pred: {np.sum(y_pred==1)}\")\n",
    "    print(np.mean(y_pred==y_test_eval))\n",
    "\n"
   ]
  },
  {
   "cell_type": "code",
   "execution_count": 6,
   "metadata": {},
   "outputs": [
    {
     "name": "stderr",
     "output_type": "stream",
     "text": [
      "100%|██████████| 30/30 [00:00<00:00, 14163.57it/s]\n"
     ]
    }
   ],
   "source": [
    "K_train_eval = K_train[:60, :60]\n",
    "K_test_eval = K_test[60:90, 60:90]\n",
    "K_train_test_eval = K_train[60:90, :60]\n",
    "y_test = train_labels[60:90]\n",
    "\n",
    "y_pred = knn(K_train_eval, K_test_eval, K_train_test_eval, k=3)"
   ]
  },
  {
   "cell_type": "code",
   "execution_count": 8,
   "metadata": {},
   "outputs": [],
   "source": [
    "from sklearn.metrics import recall_score, precision_score, f1_score, accuracy_score, roc_auc_score"
   ]
  },
  {
   "cell_type": "code",
   "execution_count": 9,
   "metadata": {},
   "outputs": [],
   "source": [
    "K_train = np.load('../data/kernel_matrix.npy')*np.load('../data/K_train_graph_hist.npy')\n",
    "K_test = np.load('../data/test_kernel_matrix.npy')*np.load('../data/K_test_graph_hist.npy')\n",
    "K_train_test = np.load('../data/test_train_kernel_matrix.npy')*np.load('../data/K_train_test_graph_hist.npy')"
   ]
  },
  {
   "cell_type": "code",
   "execution_count": 132,
   "metadata": {},
   "outputs": [],
   "source": [
    "K_train_WL = np.abs(np.load('../data/WL_train.npy'))\n",
    "#K_train_WL /= np.diag(K_train_WL).reshape(-1,1)\n",
    "\n",
    "K_test_WL = np.abs(np.load('../data/WL_test.npy'))\n",
    "#K_test_WL /= np.diag(K_test_WL).reshape(-1,1)\n",
    "\n",
    "K_train_test_WL = np.abs(np.load('../data/WL_test_train.npy'))\n",
    "#K_train_test_WL /= np.diag(K_train_test_WL).reshape(-1,1)"
   ]
  },
  {
   "cell_type": "code",
   "execution_count": 133,
   "metadata": {},
   "outputs": [],
   "source": [
    "K_train_graph = np.load('../data/K_train_graph_hist.npy')\n",
    "#K_train_graph /= np.diag(K_train_graph).reshape(-1,1)\n",
    "\n",
    "K_test_graph = np.load('../data/K_test_graph_hist.npy')\n",
    "#K_test_graph /= np.diag(K_test_graph).reshape(-1,1)\n",
    "\n",
    "K_train_test_graph = np.load('../data/K_train_test_graph_hist.npy')\n",
    "#K_train_test_graph /= np.diag(K_train_test_graph).reshape(-1,1)"
   ]
  },
  {
   "cell_type": "code",
   "execution_count": 134,
   "metadata": {},
   "outputs": [],
   "source": [
    "K_train_vertex = np.load('../data/K_train_vertex.npy')\n",
    "#K_train_vertex /= np.diag(K_train_vertex).reshape(-1,1)\n",
    "\n",
    "K_test_vertex = np.load('../data/K_test_vertex.npy')\n",
    "#K_test_vertex /= np.diag(K_test_vertex).reshape(-1,1)\n",
    "\n",
    "K_train_test_vertex = np.load('../data/K_train_test_vertex.npy')\n",
    "#K_train_test_vertex /= np.diag(K_train_test_vertex).reshape(-1,1)"
   ]
  },
  {
   "cell_type": "code",
   "execution_count": null,
   "metadata": {},
   "outputs": [],
   "source": []
  },
  {
   "cell_type": "code",
   "execution_count": 164,
   "metadata": {},
   "outputs": [],
   "source": [
    "K_train = K_train_WL*K_train_vertex\n",
    "K_test = K_test_WL*K_test_vertex\n",
    "\n",
    "K_train_test = K_train_test_WL*K_train_test_vertex\n"
   ]
  },
  {
   "cell_type": "code",
   "execution_count": 165,
   "metadata": {},
   "outputs": [
    {
     "data": {
      "text/plain": [
       "0.0"
      ]
     },
     "execution_count": 165,
     "metadata": {},
     "output_type": "execute_result"
    }
   ],
   "source": [
    "np.max(K_train-K_train.T)"
   ]
  },
  {
   "cell_type": "code",
   "execution_count": 218,
   "metadata": {},
   "outputs": [
    {
     "name": "stderr",
     "output_type": "stream",
     "text": [
      "100%|██████████| 9/9 [00:01<00:00,  5.95it/s]\n"
     ]
    }
   ],
   "source": [
    "grid = np.arange(1, 10, 1)\n",
    "scores = []\n",
    "conf_mat = []\n",
    "for k in tqdm(grid):\n",
    "    _score= []\n",
    "    _conf_mat = []\n",
    "    for train_index, test_index in skf.split(train_data_short, train_labels_short):\n",
    "        K_train_eval = K_train[train_index][:, train_index]\n",
    "        K_test_eval = K_train[test_index][:, test_index]\n",
    "        K_train_test_eval = K_train[train_index][:, test_index].T\n",
    "        y_train_eval = train_labels[train_index]\n",
    "        #print(K_train_eval.shape, K_test_eval.shape, K_train_test_eval.shape, y_train_eval.shape)\n",
    "        y_pred = knn(K_train_eval, K_test_eval, K_train_test_eval, y_train_eval, k=k)\n",
    "        y_test_eval = train_labels[test_index]\n",
    "        _conf_mat.append(confusion_matrix(y_test_eval, y_pred))\n",
    "        _score.append(roc_auc_score(y_test_eval, y_pred))\n",
    "    conf_mat.append(np.mean(_conf_mat, axis=0))\n",
    "    scores.append(np.mean(_score))\n",
    "\n",
    "        \n",
    "        "
   ]
  },
  {
   "cell_type": "code",
   "execution_count": 219,
   "metadata": {},
   "outputs": [
    {
     "name": "stdout",
     "output_type": "stream",
     "text": [
      "Confusion matrix for k = 1 \n",
      "[[190  15]\n",
      " [ 14   2]] \n",
      "\n",
      "Confusion matrix for k = 2 \n",
      "[[204   1]\n",
      " [ 16   0]] \n",
      "\n",
      "Confusion matrix for k = 3 \n",
      "[[202   3]\n",
      " [ 15   0]] \n",
      "\n",
      "Confusion matrix for k = 4 \n",
      "[[204   1]\n",
      " [ 16   0]] \n",
      "\n",
      "Confusion matrix for k = 5 \n",
      "[[203   2]\n",
      " [ 16   0]] \n",
      "\n",
      "Confusion matrix for k = 6 \n",
      "[[205   0]\n",
      " [ 16   0]] \n",
      "\n",
      "Confusion matrix for k = 7 \n",
      "[[205   0]\n",
      " [ 16   0]] \n",
      "\n",
      "Confusion matrix for k = 8 \n",
      "[[205   0]\n",
      " [ 16   0]] \n",
      "\n",
      "Confusion matrix for k = 9 \n",
      "[[205   0]\n",
      " [ 16   0]] \n",
      "\n"
     ]
    }
   ],
   "source": [
    "for k in range(9):\n",
    "    print(f\"Confusion matrix for k = {k+1} \\n{conf_mat[k].astype(int)} \\n\")"
   ]
  },
  {
   "cell_type": "code",
   "execution_count": 220,
   "metadata": {},
   "outputs": [
    {
     "data": {
      "image/png": "[encoded data removed]",
      "text/plain": [
       "<Figure size 640x480 with 1 Axes>"
      ]
     },
     "metadata": {},
     "output_type": "display_data"
    }
   ],
   "source": [
    "plt.plot(grid, scores, label=\"auc\")\n",
    "#plt.plot(grid, scores[\"precision\"], label=\"precision\")\n",
    "#plt.plot(grid, scores[\"f1\"], label=\"f1\")\n",
    "plt.xlabel('k')\n",
    "\n",
    "plt.show()\n"
   ]
  },
  {
   "cell_type": "code",
   "execution_count": 14,
   "metadata": {},
   "outputs": [],
   "source": [
    "from scipy import optimize"
   ]
  },
  {
   "cell_type": "code",
   "execution_count": 15,
   "metadata": {},
   "outputs": [],
   "source": [
    "class KernelSvmClassifier:\n",
    "    \n",
    "    def __init__(self, C = 1.):\n",
    "        self.C = C                               \n",
    "        self.alpha = None\n",
    "        self.supportVectors = None\n",
    "    \n",
    "    def fit(self, K, y):\n",
    "        N = len(y)\n",
    "        # --->\n",
    "        # Gram matrix of h(x) y\n",
    "        hXX = K\n",
    "        yp = y.reshape(-1, 1)\n",
    "        print(np.matmul(yp, yp.T).shape )\n",
    "        GramHXy = hXX * np.matmul(yp, yp.T) \n",
    "        # <---\n",
    "\n",
    "        # Lagrange dual problem\n",
    "        def Ld0(G, alpha):\n",
    "            return alpha.sum() - 0.5 * alpha.dot(alpha.dot(G))\n",
    "\n",
    "        # Partial derivate of Ld on alpha\n",
    "        def Ld0dAlpha(G, alpha):\n",
    "            return np.ones_like(alpha) - alpha.dot(G)\n",
    "\n",
    "        # Constraints on alpha of the shape :\n",
    "        # -  d - C*alpha  = 0\n",
    "        # -  b - A*alpha >= 0\n",
    "        A = np.vstack((-np.eye(N), np.eye(N)))             # <---\n",
    "        b = np.hstack((np.zeros(N), self.C * np.ones(N)))  # <---\n",
    "        constraints = ({'type': 'eq',   'fun': lambda a: np.dot(a, y),     'jac': lambda a: y},\n",
    "                       {'type': 'ineq', 'fun': lambda a: b - np.dot(A, a), 'jac': lambda a: -A})\n",
    "\n",
    "        # Maximize by minimizing the opposite\n",
    "        optRes = optimize.minimize(fun=lambda a: -Ld0(GramHXy, a),\n",
    "                                   x0=np.ones(N), \n",
    "                                   method='SLSQP', \n",
    "                                   jac=lambda a: -Ld0dAlpha(GramHXy, a), \n",
    "                                   constraints=constraints)\n",
    "        self.alpha = optRes.x\n",
    "        # --->\n",
    "        epsilon = 1e-8\n",
    "        supportIndices = self.alpha > epsilon\n",
    "        self.supportindices = supportIndices\n",
    "        self.supportAlphaY = y[supportIndices] * self.alpha[supportIndices]\n",
    "        # <---\n",
    "        print(self.alpha)\n",
    "        print(len(supportIndices))\n",
    "    \n",
    "    def predict(self, K):\n",
    "        \"\"\" Predict y values in {-1, 1} \"\"\"\n",
    "        # --->\n",
    "        def predict1(K):\n",
    "            x1 = K[self.supportindices]\n",
    "            x2 = x1 * self.supportAlphaY\n",
    "            return np.sum(x2)\n",
    "        \n",
    "        d = np.apply_along_axis(predict1, 1, K)\n",
    "        return d"
   ]
  },
  {
   "cell_type": "code",
   "execution_count": 15,
   "metadata": {},
   "outputs": [],
   "source": [
    "from sklearn.svm import SVC\n",
    "from sklearn.model_selection import StratifiedKFold\n",
    "from sklearn.neighbors import KNeighborsClassifier"
   ]
  },
  {
   "cell_type": "code",
   "execution_count": 139,
   "metadata": {},
   "outputs": [],
   "source": [
    "import numpy as np\n",
    "import cvxopt\n",
    "\n",
    "class SVM:\n",
    "    def __init__(self, C=1.0, kernel='linear', degree=3, gamma=None, coef0=0.0, tol=1e-4):\n",
    "        self.C = C\n",
    "        self.kernel = kernel\n",
    "        self.degree = degree\n",
    "        self.gamma = gamma\n",
    "        self.coef0 = coef0\n",
    "        self.tol = tol\n",
    "\n",
    "    def fit(self, K_train, y_train):\n",
    "        n_samples = K_train.shape[0]\n",
    "        self.y_train = y_train.astype(np.double)\n",
    "        K_train = K_train.astype(np.double)\n",
    "\n",
    "        P = cvxopt.matrix(np.outer(self.y_train, self.y_train) * K_train)\n",
    "        q = cvxopt.matrix(-np.ones(n_samples))\n",
    "        G_std = cvxopt.matrix(np.diag(np.ones(n_samples) * -1))\n",
    "        h_std = cvxopt.matrix(np.zeros(n_samples))\n",
    "        G_slack = cvxopt.matrix(np.diag(np.ones(n_samples)))\n",
    "        h_slack = cvxopt.matrix(np.ones(n_samples) * self.C)\n",
    "\n",
    "        G = cvxopt.matrix(np.vstack((G_std, G_slack)))\n",
    "        h = cvxopt.matrix(np.vstack((h_std, h_slack)))\n",
    "        A = cvxopt.matrix(self.y_train.reshape(1, -1))\n",
    "        b = cvxopt.matrix(np.zeros(1))\n",
    "\n",
    "        cvxopt.solvers.options['show_progress'] = True\n",
    "        solution = cvxopt.solvers.qp(P, q, G, h, A, b)\n",
    "\n",
    "        alpha = np.array(solution['x']).reshape(-1)\n",
    "        sv_idx = alpha > self.tol\n",
    "\n",
    "        self.alpha = alpha[sv_idx]\n",
    "        self.support_vectors = np.where(sv_idx)[0]\n",
    "        self.bias = np.mean(self.y_train[sv_idx] - np.sum(K_train[sv_idx][:, sv_idx] * (self.alpha * self.y_train[sv_idx]), axis=0))\n",
    "\n",
    "        return self\n",
    "    \n",
    "    def decision_function(self, K_test):\n",
    "        if self.kernel == 'linear':\n",
    "            return np.sum(K_test[:, self.support_vectors] * (self.alpha * self.y_train[self.support_vectors]), axis=1) + self.bias\n",
    "        elif self.kernel == 'poly':\n",
    "            kernel = np.power(self.gamma * np.dot(K_test[:, self.support_vectors], K_train[self.support_vectors].T) + self.coef0, self.degree)\n",
    "            return np.sum(kernel * (self.alpha * self.y_train[self.support_vectors]), axis=1) + self.bias\n",
    "        elif self.kernel == 'rbf':\n",
    "            kernel = np.exp(-self.gamma * (K_test - 2 * np.dot(K_test[:, self.support_vectors], K_train[self.support_vectors].T) + np.dot(K_train[self.support_vectors], K_train[self.support_vectors].T)))\n",
    "            return np.sum(kernel * (self.alpha * self.self.y_train[self.support_vectors]), axis=1) + self.bias\n",
    "\n",
    "    def predict(self, K_test):\n",
    "        return np.sign(self.decision_function(K_test))\n"
   ]
  },
  {
   "cell_type": "code",
   "execution_count": 140,
   "metadata": {},
   "outputs": [],
   "source": [
    "skf = StratifiedKFold(n_splits=5, shuffle=True, random_state=42)"
   ]
  },
  {
   "cell_type": "code",
   "execution_count": 141,
   "metadata": {},
   "outputs": [],
   "source": [
    "def center_kernel(K):\n",
    "    N = K.shape[0]\n",
    "    I = np.eye(N)\n",
    "    return I - 1/N * np.ones((N, N)) @ K @ np.ones((N, N))\n",
    "\n",
    "def normalize_kernel(K):\n",
    "    N = K.shape[0]\n",
    "    I = np.eye(N)\n",
    "    return I - 1/N * np.ones((N, N)) @ K @ np.ones((N, N)) @ K @ np.ones((N, N))\n",
    "\n",
    "\n",
    "#K_train_test = center_kernel(K_train_test)"
   ]
  },
  {
   "cell_type": "code",
   "execution_count": 82,
   "metadata": {},
   "outputs": [],
   "source": [
    "train_labels = 2 * train_labels - 1"
   ]
  },
  {
   "cell_type": "code",
   "execution_count": 100,
   "metadata": {},
   "outputs": [],
   "source": [
    "K_train = K_train[:,::-1]"
   ]
  },
  {
   "cell_type": "code",
   "execution_count": 166,
   "metadata": {},
   "outputs": [
    {
     "data": {
      "text/plain": [
       "array([-1, -1, -1, ..., -1, -1, -1])"
      ]
     },
     "execution_count": 166,
     "metadata": {},
     "output_type": "execute_result"
    }
   ],
   "source": [
    "train_labels"
   ]
  },
  {
   "cell_type": "code",
   "execution_count": 167,
   "metadata": {},
   "outputs": [
    {
     "name": "stderr",
     "output_type": "stream",
     "text": [
      "0it [00:00, ?it/s]"
     ]
    },
    {
     "name": "stdout",
     "output_type": "stream",
     "text": [
      "     pcost       dcost       gap    pres   dres\n",
      " 0: -9.9392e+02 -1.2458e+04  8e+04  3e+00  8e-12\n",
      " 1: -6.6291e+02 -8.1260e+03  2e+04  5e-01  8e-12\n",
      " 2: -5.7799e+02 -4.7961e+03  7e+03  2e-01  6e-12\n",
      " 3: -5.7052e+02 -2.0571e+03  2e+03  4e-02  5e-12\n",
      " 4: -6.0563e+02 -1.3121e+03  8e+02  1e-02  5e-12\n",
      " 5: -6.4022e+02 -1.0224e+03  4e+02  6e-03  5e-12\n",
      " 6: -6.5051e+02 -9.5843e+02  3e+02  4e-03  5e-12\n",
      " 7: -6.6890e+02 -8.5084e+02  2e+02  1e-03  6e-12\n",
      " 8: -6.7725e+02 -8.1321e+02  1e+02  6e-04  5e-12\n",
      " 9: -6.8954e+02 -7.6718e+02  8e+01  2e-04  6e-12\n",
      "10: -6.9369e+02 -7.5367e+02  6e+01  1e-04  5e-12\n",
      "11: -6.9998e+02 -7.3565e+02  4e+01  6e-05  6e-12\n",
      "12: -7.0459e+02 -7.2360e+02  2e+01  2e-05  6e-12\n",
      "13: -7.0589e+02 -7.2042e+02  1e+01  8e-06  6e-12\n",
      "14: -7.0864e+02 -7.1518e+02  7e+00  3e-06  6e-12\n",
      "15: -7.0992e+02 -7.1273e+02  3e+00  3e-07  7e-12\n",
      "16: -7.1035e+02 -7.1210e+02  2e+00  1e-07  6e-12\n",
      "17: -7.1096e+02 -7.1129e+02  3e-01  1e-08  6e-12\n",
      "18: -7.1108e+02 -7.1113e+02  5e-02  1e-09  6e-12\n",
      "19: -7.1110e+02 -7.1111e+02  1e-03  2e-11  7e-12\n",
      "20: -7.1111e+02 -7.1111e+02  2e-05  4e-13  7e-12\n",
      "Optimal solution found.\n"
     ]
    },
    {
     "name": "stderr",
     "output_type": "stream",
     "text": [
      "1it [01:17, 77.96s/it]"
     ]
    },
    {
     "name": "stdout",
     "output_type": "stream",
     "text": [
      "     pcost       dcost       gap    pres   dres\n",
      " 0: -9.7160e+02 -1.1429e+04  7e+04  3e+00  7e-12\n",
      " 1: -6.6851e+02 -7.4893e+03  2e+04  6e-01  7e-12\n",
      " 2: -5.7926e+02 -3.5426e+03  5e+03  1e-01  5e-12\n",
      " 3: -5.8229e+02 -1.6420e+03  1e+03  3e-02  5e-12\n",
      " 4: -6.2188e+02 -1.0817e+03  5e+02  1e-02  5e-12\n",
      " 5: -6.3598e+02 -9.9491e+02  4e+02  7e-03  5e-12\n",
      " 6: -6.5710e+02 -8.7588e+02  2e+02  4e-03  5e-12\n",
      " 7: -6.6864e+02 -8.2145e+02  2e+02  2e-03  5e-12\n",
      " 8: -6.7700e+02 -7.8767e+02  1e+02  1e-03  5e-12\n",
      " 9: -6.8786e+02 -7.4652e+02  6e+01  4e-04  5e-12\n",
      "10: -6.9504e+02 -7.2302e+02  3e+01  4e-05  5e-12\n",
      "11: -6.9567e+02 -7.2145e+02  3e+01  2e-05  5e-12\n",
      "12: -6.9968e+02 -7.1351e+02  1e+01  1e-05  5e-12\n",
      "13: -7.0241e+02 -7.0821e+02  6e+00  1e-06  5e-12\n",
      "14: -7.0250e+02 -7.0792e+02  5e+00  9e-07  5e-12\n",
      "15: -7.0421e+02 -7.0540e+02  1e+00  8e-08  5e-12\n",
      "16: -7.0454e+02 -7.0495e+02  4e-01  2e-08  5e-12\n",
      "17: -7.0471e+02 -7.0474e+02  3e-02  9e-11  6e-12\n",
      "18: -7.0472e+02 -7.0472e+02  1e-03  4e-12  6e-12\n",
      "19: -7.0472e+02 -7.0472e+02  3e-05  9e-14  6e-12\n",
      "Optimal solution found.\n"
     ]
    },
    {
     "name": "stderr",
     "output_type": "stream",
     "text": [
      "2it [02:36, 78.33s/it]"
     ]
    },
    {
     "name": "stdout",
     "output_type": "stream",
     "text": [
      "     pcost       dcost       gap    pres   dres\n",
      " 0: -9.8146e+02 -1.1581e+04  7e+04  3e+00  8e-12\n",
      " 1: -6.7932e+02 -7.6811e+03  2e+04  6e-01  7e-12\n",
      " 2: -5.8216e+02 -3.9666e+03  5e+03  1e-01  6e-12\n",
      " 3: -5.8372e+02 -1.6824e+03  1e+03  3e-02  6e-12\n",
      " 4: -6.2134e+02 -1.1924e+03  7e+02  1e-02  6e-12\n",
      " 5: -6.5211e+02 -9.7025e+02  4e+02  6e-03  6e-12\n",
      " 6: -6.6705e+02 -8.8169e+02  2e+02  2e-03  6e-12\n",
      " 7: -6.7150e+02 -8.5784e+02  2e+02  2e-03  6e-12\n",
      " 8: -6.8862e+02 -7.8800e+02  1e+02  6e-04  6e-12\n",
      " 9: -6.9576e+02 -7.6517e+02  7e+01  3e-04  6e-12\n",
      "10: -7.0111e+02 -7.4392e+02  4e+01  4e-14  8e-12\n",
      "11: -7.0700e+02 -7.2994e+02  2e+01  3e-13  7e-12\n",
      "12: -7.1075e+02 -7.2254e+02  1e+01  9e-14  7e-12\n",
      "13: -7.1286e+02 -7.1884e+02  6e+00  1e-13  7e-12\n",
      "14: -7.1446e+02 -7.1626e+02  2e+00  6e-14  7e-12\n",
      "15: -7.1502e+02 -7.1546e+02  4e-01  1e-13  7e-12\n",
      "16: -7.1519e+02 -7.1523e+02  4e-02  1e-13  8e-12\n",
      "17: -7.1521e+02 -7.1521e+02  1e-03  1e-13  8e-12\n"
     ]
    },
    {
     "name": "stderr",
     "output_type": "stream",
     "text": [
      "3it [03:48, 75.60s/it]"
     ]
    },
    {
     "name": "stdout",
     "output_type": "stream",
     "text": [
      "18: -7.1521e+02 -7.1521e+02  2e-05  8e-14  8e-12\n",
      "Optimal solution found.\n",
      "     pcost       dcost       gap    pres   dres\n",
      " 0: -1.0035e+03 -1.2101e+04  7e+04  3e+00  9e-12\n",
      " 1: -6.8907e+02 -7.9950e+03  2e+04  6e-01  7e-12\n",
      " 2: -5.9600e+02 -3.6534e+03  5e+03  1e-01  6e-12\n",
      " 3: -6.0464e+02 -1.6736e+03  1e+03  3e-02  5e-12\n",
      " 4: -6.4030e+02 -1.2167e+03  7e+02  1e-02  6e-12\n",
      " 5: -6.6751e+02 -1.0151e+03  4e+02  6e-03  6e-12\n",
      " 6: -6.7676e+02 -9.6189e+02  3e+02  5e-03  5e-12\n",
      " 7: -6.9402e+02 -8.7405e+02  2e+02  2e-03  6e-12\n",
      " 8: -7.0693e+02 -8.1485e+02  1e+02  1e-03  6e-12\n",
      " 9: -7.1405e+02 -7.7836e+02  6e+01  7e-05  7e-12\n",
      "10: -7.1676e+02 -7.7177e+02  6e+01  5e-05  6e-12\n",
      "11: -7.2025e+02 -7.5930e+02  4e+01  2e-14  7e-12\n",
      "12: -7.2653e+02 -7.4669e+02  2e+01  2e-14  6e-12\n",
      "13: -7.2960e+02 -7.4053e+02  1e+01  2e-14  6e-12\n",
      "14: -7.3093e+02 -7.3808e+02  7e+00  3e-14  6e-12\n",
      "15: -7.3263e+02 -7.3531e+02  3e+00  4e-14  6e-12\n",
      "16: -7.3297e+02 -7.3470e+02  2e+00  5e-15  7e-12\n",
      "17: -7.3355e+02 -7.3397e+02  4e-01  7e-14  6e-12\n",
      "18: -7.3373e+02 -7.3375e+02  3e-02  2e-14  7e-12\n",
      "19: -7.3374e+02 -7.3374e+02  1e-03  1e-13  7e-12\n"
     ]
    },
    {
     "name": "stderr",
     "output_type": "stream",
     "text": [
      "4it [05:05, 75.84s/it]"
     ]
    },
    {
     "name": "stdout",
     "output_type": "stream",
     "text": [
      "20: -7.3374e+02 -7.3374e+02  1e-05  1e-13  7e-12\n",
      "Optimal solution found.\n",
      "     pcost       dcost       gap    pres   dres\n",
      " 0: -9.9435e+02 -1.1884e+04  7e+04  3e+00  8e-12\n",
      " 1: -6.8506e+02 -7.7998e+03  2e+04  6e-01  7e-12\n",
      " 2: -5.9729e+02 -3.6697e+03  5e+03  1e-01  6e-12\n",
      " 3: -5.9354e+02 -1.9205e+03  2e+03  4e-02  5e-12\n",
      " 4: -6.3322e+02 -1.1762e+03  6e+02  1e-02  5e-12\n",
      " 5: -6.5990e+02 -9.8759e+02  4e+02  6e-03  5e-12\n",
      " 6: -6.8243e+02 -8.6422e+02  2e+02  2e-03  5e-12\n",
      " 7: -6.9614e+02 -8.0522e+02  1e+02  1e-03  6e-12\n",
      " 8: -7.0531e+02 -7.7415e+02  7e+01  5e-04  6e-12\n",
      " 9: -7.1074e+02 -7.5848e+02  5e+01  3e-04  6e-12\n",
      "10: -7.1679e+02 -7.4292e+02  3e+01  1e-04  6e-12\n",
      "11: -7.1857e+02 -7.3793e+02  2e+01  6e-05  6e-12\n",
      "12: -7.2250e+02 -7.3026e+02  8e+00  2e-05  6e-12\n",
      "13: -7.2318e+02 -7.2821e+02  5e+00  6e-14  7e-12\n",
      "14: -7.2501e+02 -7.2588e+02  9e-01  1e-14  7e-12\n",
      "15: -7.2535e+02 -7.2545e+02  9e-02  2e-13  7e-12\n",
      "16: -7.2539e+02 -7.2540e+02  9e-03  1e-13  7e-12\n",
      "17: -7.2540e+02 -7.2540e+02  2e-04  1e-13  7e-12\n",
      "Optimal solution found.\n"
     ]
    },
    {
     "name": "stderr",
     "output_type": "stream",
     "text": [
      "5it [06:11, 74.36s/it]\n"
     ]
    }
   ],
   "source": [
    "svm_ = SVM(kernel='linear', C=1.0)\n",
    "_score = []\n",
    "_conf_mat = []\n",
    "for train_index, test_index in tqdm(skf.split(train_data, train_labels)):\n",
    "        K_train_eval = K_train[train_index][:, train_index]\n",
    "        #K_test_eval =normalize_kernel( K_train[test_index][:, test_index])\n",
    "        K_train_test_eval = K_train[train_index][:, test_index]\n",
    "        y_train_eval = train_labels[train_index]\n",
    "        #print(K_train_eval.shape, K_test_eval.shape, K_train_test_eval.shape, y_train_eval.shape)\n",
    "        alphas, y, ind, b = train(K_train_eval, y_train_eval)\n",
    "        y_pred = predict(K_train_test_eval, alphas, y, ind, b)\n",
    "        # y_pred = svm_.fit(K_train_eval, y_train_eval)\n",
    "        # clss = np.abs(y_pred).argmax(axis=1)\n",
    "        # y_pred = y_pred[np.arange(len(y_pred)), clss]\n",
    "        y_test_eval = train_labels[test_index]\n",
    "        _score.append(roc_auc_score(y_test_eval, y_pred))\n"
   ]
  },
  {
   "cell_type": "code",
   "execution_count": null,
   "metadata": {},
   "outputs": [],
   "source": [
    "import numpy as np\n",
    "from scipy.optimize import minimize\n",
    "from cvxopt import matrix, solvers\n",
    "\n",
    "def svm_solver(K, y, C=1.0):\n",
    "    n_samples = K.shape[0]\n",
    "    P = np.outer(y, y) * K\n",
    "    q = -np.ones(n_samples)\n",
    "    G = np.vstack((-np.eye(n_samples), np.eye(n_samples)))\n",
    "    h = np.hstack((np.zeros(n_samples), C * np.ones(n_samples)))\n",
    "    A = y[np.newaxis, :].astype('float64')\n",
    "    b = np.zeros(1)\n",
    "\n",
    "    P = matrix(P)\n",
    "    q = matrix(q)\n",
    "    G = matrix(G)\n",
    "    h = matrix(h)\n",
    "    A = matrix(A)\n",
    "    b = matrix(b)\n",
    "\n",
    "    sol = solvers.qp(P, q, G, h, A, b)\n",
    "    alphas = np.array(sol['x']).flatten()\n",
    "    \n",
    "    return alphas\n",
    "\n",
    "def train(K, y, C=1.0):\n",
    "    alphas = svm_solver(K, y, C)\n",
    "    support_vectors = alphas > 1e-6\n",
    "    ind = np.arange(len(alphas))[support_vectors]\n",
    "    alphas = alphas[support_vectors]\n",
    "    support_y = y[support_vectors]\n",
    "    support_K = K[ind][:, support_vectors]\n",
    "    \n",
    "    b = np.mean(support_y - np.sum(support_K * alphas * support_y, axis=1))\n",
    "    \n",
    "    return alphas, support_y, ind, b\n",
    "\n",
    "def predict(K_test, alphas, support_y, ind, b):\n",
    "    logits = np.dot(K_test[ind].T, alphas * support_y) + b\n",
    "    return logits\n",
    "\n",
    "# Exemple d'utilisation :\n",
    "# Charger les données et les noyaux précalculés ici\n",
    "# K, K_test, y et y_test doivent être chargés ou générés\n"
   ]
  },
  {
   "cell_type": "code",
   "execution_count": 78,
   "metadata": {},
   "outputs": [
    {
     "data": {
      "text/plain": [
       "0.0"
      ]
     },
     "execution_count": 78,
     "metadata": {},
     "output_type": "execute_result"
    }
   ],
   "source": [
    "K_train_test_eval.min()"
   ]
  },
  {
   "cell_type": "code",
   "execution_count": 168,
   "metadata": {},
   "outputs": [
    {
     "name": "stdout",
     "output_type": "stream",
     "text": [
      "0.8557028102482647\n"
     ]
    }
   ],
   "source": [
    "print(np.mean(_score))"
   ]
  },
  {
   "cell_type": "code",
   "execution_count": 70,
   "metadata": {},
   "outputs": [
    {
     "data": {
      "text/plain": [
       "array([1, 4, 3])"
      ]
     },
     "execution_count": 70,
     "metadata": {},
     "output_type": "execute_result"
    }
   ],
   "source": [
    "np.array([[1, 4, 3]]).reshape(3,1).flatten()"
   ]
  },
  {
   "cell_type": "code",
   "execution_count": 170,
   "metadata": {},
   "outputs": [
    {
     "name": "stdout",
     "output_type": "stream",
     "text": [
      "[]\n"
     ]
    }
   ],
   "source": [
    "print(_conf_mat)"
   ]
  },
  {
   "cell_type": "code",
   "execution_count": 169,
   "metadata": {},
   "outputs": [
    {
     "name": "stdout",
     "output_type": "stream",
     "text": [
      "     pcost       dcost       gap    pres   dres\n",
      " 0: -1.2500e+03 -1.5719e+04  1e+05  3e+00  1e-11\n",
      " 1: -8.5331e+02 -1.0531e+04  2e+04  6e-01  1e-11\n",
      " 2: -7.3664e+02 -5.1658e+03  7e+03  1e-01  8e-12\n",
      " 3: -7.3515e+02 -2.2394e+03  2e+03  3e-02  8e-12\n",
      " 4: -7.8383e+02 -1.5321e+03  9e+02  1e-02  7e-12\n",
      " 5: -8.0701e+02 -1.3535e+03  6e+02  8e-03  7e-12\n",
      " 6: -8.2331e+02 -1.2483e+03  5e+02  5e-03  7e-12\n",
      " 7: -8.4857e+02 -1.1013e+03  3e+02  3e-03  7e-12\n",
      " 8: -8.5867e+02 -1.0484e+03  2e+02  1e-03  7e-12\n",
      " 9: -8.7603e+02 -9.7978e+02  1e+02  5e-04  8e-12\n",
      "10: -8.8030e+02 -9.6450e+02  9e+01  3e-04  8e-12\n",
      "11: -8.8610e+02 -9.3936e+02  5e+01  2e-14  9e-12\n",
      "12: -8.9328e+02 -9.2381e+02  3e+01  1e-14  8e-12\n",
      "13: -8.9604e+02 -9.1845e+02  2e+01  2e-13  8e-12\n",
      "14: -8.9845e+02 -9.1303e+02  1e+01  3e-13  9e-12\n",
      "15: -8.9922e+02 -9.1155e+02  1e+01  4e-14  8e-12\n",
      "16: -9.0129e+02 -9.0823e+02  7e+00  7e-14  8e-12\n",
      "17: -9.0193e+02 -9.0708e+02  5e+00  5e-14  8e-12\n",
      "18: -9.0333e+02 -9.0515e+02  2e+00  3e-13  9e-12\n",
      "19: -9.0395e+02 -9.0428e+02  3e-01  2e-13  1e-11\n",
      "20: -9.0408e+02 -9.0413e+02  4e-02  4e-15  1e-11\n",
      "21: -9.0410e+02 -9.0410e+02  1e-03  2e-13  9e-12\n",
      "22: -9.0410e+02 -9.0410e+02  2e-05  4e-13  1e-11\n",
      "Optimal solution found.\n"
     ]
    }
   ],
   "source": [
    "import pandas as pd\n",
    "alphas, y, ind, b = train(K_train, train_labels)\n",
    "y_pred = predict(K_train_test.T, alphas, y, ind, b)\n",
    "Yte = {'Predicted' : y_pred} \n",
    "dataframe = pd.DataFrame(Yte) \n",
    "dataframe.index += 1 \n",
    "dataframe.to_csv('test_pred.csv',index_label='Id')"
   ]
  },
  {
   "cell_type": "code",
   "execution_count": 121,
   "metadata": {},
   "outputs": [],
   "source": [
    "\n",
    "%load_ext autoreload\n",
    "%autoreload 2"
   ]
  },
  {
   "cell_type": "code",
   "execution_count": 210,
   "metadata": {},
   "outputs": [],
   "source": [
    "from src.kernels import GraphHistogramKernel, RandomWalkKernel, LinearEdgeKernel, BinaryNodeKernel, ShortestPathKernel"
   ]
  },
  {
   "cell_type": "code",
   "execution_count": 211,
   "metadata": {},
   "outputs": [],
   "source": [
    "kern = ShortestPathKernel()"
   ]
  },
  {
   "cell_type": "code",
   "execution_count": 212,
   "metadata": {},
   "outputs": [
    {
     "name": "stdout",
     "output_type": "stream",
     "text": [
      "[[0.11364746 0.09958225 0.10426312 0.09188476 0.10542297 0.09828125\n",
      "  0.12350502 0.08722656 0.10168651 0.06136719]\n",
      " [0.09958225 0.09548611 0.09379287 0.08511568 0.09484185 0.08940972\n",
      "  0.10744599 0.08111111 0.09302564 0.05985243]\n",
      " [0.10426312 0.09379287 0.09868922 0.08821662 0.09784915 0.09398148\n",
      "  0.11149215 0.0837037  0.09581199 0.06193673]\n",
      " [0.09188476 0.08511568 0.08821662 0.0872107  0.09307923 0.08481175\n",
      "  0.09507533 0.07886134 0.09073835 0.06407484]\n",
      " [0.10542297 0.09484185 0.09784915 0.09307923 0.10739899 0.09380859\n",
      "  0.12084057 0.08599609 0.10088931 0.06379395]\n",
      " [0.09828125 0.08940972 0.09398148 0.08481175 0.09380859 0.0908\n",
      "  0.1066358  0.0815     0.09122449 0.0619625 ]\n",
      " [0.12350502 0.10744599 0.11149215 0.09507533 0.12084057 0.1066358\n",
      "  0.15904588 0.09540123 0.11104112 0.0608179 ]\n",
      " [0.08722656 0.08111111 0.0837037  0.07886134 0.08599609 0.0815\n",
      "  0.09540123 0.0766     0.08362812 0.06143125]\n",
      " [0.10168651 0.09302564 0.09581199 0.09073835 0.10088931 0.09122449\n",
      "  0.11104112 0.08362812 0.09798901 0.06311224]\n",
      " [0.06136719 0.05985243 0.06193673 0.06407484 0.06379395 0.0619625\n",
      "  0.0608179  0.06143125 0.06311224 0.05920312]]\n"
     ]
    }
   ],
   "source": [
    "print(kern(train_data[:10], train_data[:10]))"
   ]
  },
  {
   "cell_type": "code",
   "execution_count": 177,
   "metadata": {},
   "outputs": [],
   "source": [
    "train_data = np.array(train_data, dtype=object)"
   ]
  },
  {
   "cell_type": "code",
   "execution_count": 187,
   "metadata": {},
   "outputs": [],
   "source": [
    "pos_data = train_data[train_labels == 1]\n",
    "neg_data = train_data[np.random.choice(np.arange(0, train_data.shape[0]), size=pos_data.shape[0], replace=False)]\n",
    "\n",
    "train_data_short = np.concatenate([pos_data, neg_data])\n",
    "train_labels_short = np.concatenate([np.ones(pos_data.shape[0]), np.zeros(neg_data.shape[0])])"
   ]
  },
  {
   "cell_type": "code",
   "execution_count": 214,
   "metadata": {},
   "outputs": [],
   "source": [
    "K_train = kern(train_data_short, train_data_short)"
   ]
  },
  {
   "cell_type": "code",
   "execution_count": 215,
   "metadata": {},
   "outputs": [],
   "source": [
    "np.save('K_train_shortest_path.npy', K_train)"
   ]
  },
  {
   "cell_type": "code",
   "execution_count": 216,
   "metadata": {},
   "outputs": [],
   "source": [
    "K_train_test = kern(train_data_short, test_data)\n",
    "\n",
    "np.save('K_train_test_shortest_path.npy', K_train_test)\n",
    "\n"
   ]
  },
  {
   "cell_type": "code",
   "execution_count": 217,
   "metadata": {},
   "outputs": [
    {
     "name": "stderr",
     "output_type": "stream",
     "text": [
      "100%|██████████| 2000/2000 [00:03<00:00, 502.93it/s]\n"
     ]
    }
   ],
   "source": [
    "K_test = np.diag([kern(x,x) for x in tqdm(test_data)] )\n",
    "\n",
    "np.save('K_test_shortest_path.npy', K_test)"
   ]
  },
  {
   "cell_type": "code",
   "execution_count": 221,
   "metadata": {},
   "outputs": [],
   "source": [
    "np.save('train_labels_short.npy', train_labels_short)"
   ]
  },
  {
   "cell_type": "code",
   "execution_count": null,
   "metadata": {},
   "outputs": [],
   "source": []
  }
 ],
 "metadata": {
  "kernelspec": {
   "display_name": "kernelmethods-env",
   "language": "python",
   "name": "python3"
  },
  "language_info": {
   "codemirror_mode": {
    "name": "ipython",
    "version": 3
   },
   "file_extension": ".py",
   "mimetype": "text/x-python",
   "name": "python",
   "nbconvert_exporter": "python",
   "pygments_lexer": "ipython3",
   "version": "3.11.0"
  },
  "orig_nbformat": 4
 },
 "nbformat": 4,
 "nbformat_minor": 2
}
