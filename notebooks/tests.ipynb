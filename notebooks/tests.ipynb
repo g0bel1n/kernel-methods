{
 "cells": [
  {
   "cell_type": "code",
   "execution_count": 1,
   "metadata": {},
   "outputs": [],
   "source": [
    "import pickle\n",
    "import matplotlib.pyplot as plt\n",
    "import numpy as np\n",
    "from tqdm import tqdm"
   ]
  },
  {
   "cell_type": "code",
   "execution_count": 2,
   "metadata": {},
   "outputs": [],
   "source": [
    "with open('../data/training_data.pkl', 'rb') as f:\n",
    "    train_data = pickle.load(f)\n",
    "\n",
    "with open('../data/test_data.pkl', 'rb') as f:\n",
    "    test_data = pickle.load(f)\n",
    "\n",
    "with open('../data/training_labels.pkl', 'rb') as f:\n",
    "    train_labels = pickle.load(f)"
   ]
  },
  {
   "cell_type": "code",
   "execution_count": 3,
   "metadata": {},
   "outputs": [],
   "source": [
    "class knn:\n",
    "        \n",
    "        def __init__(self, kernel, k=3) -> None:\n",
    "            self.k = k\n",
    "            self.kernel = kernel\n",
    "            \n",
    "        def fit(self, X, y):\n",
    "            self.X = X\n",
    "            self.y = y\n",
    "\n",
    "            return self\n",
    "        \n",
    "        def compute_distance(self, x, base):\n",
    "            k = self.kernel(x,x)\n",
    "            return [k+self.kernel(b,b)-2*self.kernel(x, b) for b in base]\n",
    "        \n",
    "        def predict(self, X):\n",
    "            y_pred = []\n",
    "            score_list = []\n",
    "            for x in tqdm(X):\n",
    "                scores = np.array(self.compute_distance(x, self.X))\n",
    "                idx = np.argsort(scores)[:self.k]\n",
    "                y_pred.append((self.y[idx].mean()>.5).astype(int))\n",
    "                score_list.append(scores)\n",
    "            return np.array(y_pred), np.array(score_list)\n",
    "        \n",
    "        def score(self, X, y):\n",
    "            return np.mean(self.predict(X)[0]==y)"
   ]
  },
  {
   "cell_type": "code",
   "execution_count": 4,
   "metadata": {},
   "outputs": [],
   "source": [
    "import sys \n",
    "import os\n",
    "\n",
    "if 'src' not in [el.split('/')[-1] for el in sys.path]:\n",
    "    curr_path = os.getcwd()\n",
    "    sys.path.append('/'.join((curr_path.split('/')[:-1])))"
   ]
  },
  {
   "cell_type": "code",
   "execution_count": 8,
   "metadata": {},
   "outputs": [
    {
     "name": "stdout",
     "output_type": "stream",
     "text": [
      "Collecting scikit-learn\n",
      "  Using cached scikit_learn-1.2.2-cp311-cp311-macosx_10_9_x86_64.whl (9.0 MB)\n",
      "Requirement already satisfied: numpy>=1.17.3 in /Users/g0bel1n/opt/anaconda3/envs/kernelmethods-env/lib/python3.11/site-packages (from scikit-learn) (1.24.2)\n",
      "Requirement already satisfied: scipy>=1.3.2 in /Users/g0bel1n/opt/anaconda3/envs/kernelmethods-env/lib/python3.11/site-packages (from scikit-learn) (1.10.1)\n",
      "Collecting joblib>=1.1.1\n",
      "  Using cached joblib-1.2.0-py3-none-any.whl (297 kB)\n",
      "Collecting threadpoolctl>=2.0.0\n",
      "  Using cached threadpoolctl-3.1.0-py3-none-any.whl (14 kB)\n",
      "Installing collected packages: threadpoolctl, joblib, scikit-learn\n",
      "Successfully installed joblib-1.2.0 scikit-learn-1.2.2 threadpoolctl-3.1.0\n",
      "Note: you may need to restart the kernel to use updated packages.\n"
     ]
    }
   ],
   "source": [
    "%pip install scikit-learn"
   ]
  },
  {
   "cell_type": "code",
   "execution_count": 9,
   "metadata": {},
   "outputs": [],
   "source": [
    "from src.kernels import RandomWalkKernel, QuadraticEdgeKernel, VertexHistogramKernel\n",
    "from sklearn.model_selection import train_test_split\n"
   ]
  },
  {
   "cell_type": "code",
   "execution_count": 12,
   "metadata": {},
   "outputs": [],
   "source": [
    "idx1 = train_labels==1\n",
    "idx0 = train_labels==0\n",
    "\n",
    "train_data = np.array(train_data, dtype=object)\n",
    "\n",
    "X_train = train_data[idx1][:30]\n",
    "X_train = np.concatenate((X_train, train_data[idx0][:30]))\n",
    "y_train = np.concatenate((np.ones(30), np.zeros(30)))\n",
    "\n",
    "X_test = train_data[idx1][30:60]\n",
    "X_test = np.concatenate((X_test, train_data[idx0][30:60]))\n",
    "y_test = np.concatenate((np.ones(30), np.zeros(30)))\n",
    "\n",
    "\n",
    "X_train, _, y_train, _ = train_test_split(train_data, train_labels, test_size=0.5)\n",
    "\n",
    "X_train, X_test, y_train, y_test = train_test_split(X_train, y_train, test_size=0.2)\n",
    "\n",
    "#knn_ = knn(k=3, kernel=RandomWalkKernel(edge_kernel=QuadraticEdgeKernel())).fit(X_train, y_train)\n",
    "knn_ = knn(k=3, kernel=VertexHistogramKernel()).fit(X_train, y_train)\n"
   ]
  },
  {
   "cell_type": "code",
   "execution_count": 13,
   "metadata": {},
   "outputs": [
    {
     "name": "stderr",
     "output_type": "stream",
     "text": [
      "100%|██████████| 600/600 [05:09<00:00,  1.94it/s]\n"
     ]
    },
    {
     "data": {
      "text/plain": [
       "0.8833333333333333"
      ]
     },
     "execution_count": 13,
     "metadata": {},
     "output_type": "execute_result"
    }
   ],
   "source": [
    "a = knn_.predict(X_test)\n",
    "np.mean(a[0]==y_test)"
   ]
  },
  {
   "cell_type": "code",
   "execution_count": 15,
   "metadata": {},
   "outputs": [
    {
     "name": "stdout",
     "output_type": "stream",
     "text": [
      "Train class distribution:  [2187  213]\n",
      "Test class distribution:  [539  61]\n"
     ]
    }
   ],
   "source": [
    "#print class distribution\n",
    "print('Train class distribution: ', np.bincount(y_train.astype(int)))\n",
    "print('Test class distribution: ', np.bincount(y_test.astype(int)))"
   ]
  },
  {
   "cell_type": "code",
   "execution_count": 23,
   "metadata": {},
   "outputs": [
    {
     "data": {
      "text/plain": [
       "0.5279965935703641"
      ]
     },
     "execution_count": 23,
     "metadata": {},
     "output_type": "execute_result"
    }
   ],
   "source": [
    "from sklearn.metrics import balanced_accuracy_score\n",
    "\n",
    "balanced_accuracy_score(y_test, a[0])"
   ]
  }
 ],
 "metadata": {
  "kernelspec": {
   "display_name": "kernelmethods-env",
   "language": "python",
   "name": "python3"
  },
  "language_info": {
   "codemirror_mode": {
    "name": "ipython",
    "version": 3
   },
   "file_extension": ".py",
   "mimetype": "text/x-python",
   "name": "python",
   "nbconvert_exporter": "python",
   "pygments_lexer": "ipython3",
   "version": "3.11.0"
  },
  "orig_nbformat": 4,
  "vscode": {
   "interpreter": {
    "hash": "5d5852cb4130bf55fa9dd4b6b86be58a73e227e334f83eee93cb0d07032ec2f7"
   }
  }
 },
 "nbformat": 4,
 "nbformat_minor": 2
}
